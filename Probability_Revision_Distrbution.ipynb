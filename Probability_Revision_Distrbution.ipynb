{
 "cells": [
  {
   "cell_type": "markdown",
   "metadata": {},
   "source": [
    "### Code of Distribution by Scipy python \n",
    "##### =======================\n",
    "##### PMF, PDF,CDF "
   ]
  },
  {
   "cell_type": "code",
   "execution_count": 1,
   "metadata": {},
   "outputs": [],
   "source": [
    "# PMF: Probability of Mass function (That function discribe all probability of x value).\n",
    "# PDF: Probability of density function (have x and you need y).\n",
    "# CDF: Cumulative density function.\n",
    "# PPF: percent point function (or inverse cumulative distribution function) returns x value that has a given CDF (y).\n",
    "# SF: Survival function (SF): 1-CDF"
   ]
  },
  {
   "cell_type": "markdown",
   "metadata": {},
   "source": [
    "### Import distribution from Scipy package"
   ]
  },
  {
   "cell_type": "markdown",
   "metadata": {},
   "source": [
    "#### --> Import Discrete Distribution>--"
   ]
  },
  {
   "cell_type": "code",
   "execution_count": 2,
   "metadata": {},
   "outputs": [],
   "source": [
    "# Import bernoulli distribution .\n",
    "from scipy.stats import bernoulli"
   ]
  },
  {
   "cell_type": "code",
   "execution_count": 3,
   "metadata": {},
   "outputs": [],
   "source": [
    "# Import Poisson Distribution.\n",
    "from scipy.stats import poisson"
   ]
  },
  {
   "cell_type": "code",
   "execution_count": 4,
   "metadata": {},
   "outputs": [],
   "source": [
    "# Import Binomial Distribution.\n",
    "from scipy.stats import binom"
   ]
  },
  {
   "cell_type": "code",
   "execution_count": 5,
   "metadata": {},
   "outputs": [],
   "source": [
    "# Import describe method from scipy to calculate var and mean.\n",
    "from scipy.stats import describe"
   ]
  },
  {
   "cell_type": "markdown",
   "metadata": {},
   "source": [
    "### Bernoulli Distribution Method."
   ]
  },
  {
   "cell_type": "code",
   "execution_count": 6,
   "metadata": {},
   "outputs": [
    {
     "data": {
      "text/plain": [
       "0.2"
      ]
     },
     "execution_count": 6,
     "metadata": {},
     "output_type": "execute_result"
    }
   ],
   "source": [
    "# To create PMF for bernoulli Distribution.\n",
    "# PMF have only two value at loc =(1-p), loc+1 = p, else equal zero.\n",
    "PMF = bernoulli.pmf(k=1, p = 0.2, loc=0) # optional loc default = 0\n",
    "PMF"
   ]
  },
  {
   "cell_type": "code",
   "execution_count": 7,
   "metadata": {},
   "outputs": [
    {
     "data": {
      "text/plain": [
       "array([0, 0, 0, 0, 0, 1, 0, 0, 0, 1])"
      ]
     },
     "execution_count": 7,
     "metadata": {},
     "output_type": "execute_result"
    }
   ],
   "source": [
    "# To create sample space of n trials = size, and p at loc+1.\n",
    "RVS = bernoulli.rvs(p=0.4, loc=0, size=10, random_state=None)\n",
    "RVS"
   ]
  },
  {
   "cell_type": "code",
   "execution_count": 8,
   "metadata": {},
   "outputs": [
    {
     "data": {
      "text/plain": [
       "1.0"
      ]
     },
     "execution_count": 8,
     "metadata": {},
     "output_type": "execute_result"
    }
   ],
   "source": [
    "# To get Cumulative distribution function.\n",
    "# loc start point on x, p probability at x = loc+1, K is the x value that i want to calculate cdf for it.\n",
    "CDF = bernoulli.cdf(k=2, p=0.3, loc=1)\n",
    "CDF"
   ]
  },
  {
   "cell_type": "code",
   "execution_count": 9,
   "metadata": {},
   "outputs": [
    {
     "data": {
      "text/plain": [
       "3.0"
      ]
     },
     "execution_count": 9,
     "metadata": {},
     "output_type": "execute_result"
    }
   ],
   "source": [
    "# PPF use when i have y and i  need x, q is y value, p positive probability, loc that location.\n",
    "PPF = bernoulli.ppf(q=0.4, p=0.6, loc=3)\n",
    "PPF"
   ]
  },
  {
   "cell_type": "code",
   "execution_count": 10,
   "metadata": {},
   "outputs": [
    {
     "data": {
      "text/plain": [
       "1.0"
      ]
     },
     "execution_count": 10,
     "metadata": {},
     "output_type": "execute_result"
    }
   ],
   "source": [
    "# SF: Survival function (SF): 1-CDF, K is x value, p probablilty at loc+1, \n",
    "SF = bernoulli.sf(k=-1, p=0.7, loc=0)\n",
    "SF"
   ]
  },
  {
   "cell_type": "code",
   "execution_count": 11,
   "metadata": {},
   "outputs": [
    {
     "name": "stdout",
     "output_type": "stream",
     "text": [
      "0.2\n",
      "nan\n",
      "0.2\n",
      "0.0\n"
     ]
    },
    {
     "name": "stderr",
     "output_type": "stream",
     "text": [
      "C:\\Users\\Mhmd Syd\\anaconda3\\lib\\site-packages\\numpy\\core\\fromnumeric.py:3583: RuntimeWarning: Degrees of freedom <= 0 for slice\n",
      "  return _methods._var(a, axis=axis, dtype=dtype, out=out, ddof=ddof,\n",
      "C:\\Users\\Mhmd Syd\\anaconda3\\lib\\site-packages\\numpy\\core\\_methods.py:209: RuntimeWarning: invalid value encountered in double_scalars\n",
      "  ret = ret.dtype.type(ret / rcount)\n"
     ]
    }
   ],
   "source": [
    "# calculate mean, median, variance, std by two way.\n",
    "print(describe(PMF).mean)\n",
    "print(describe(PMF).variance)\n",
    "print(bernoulli.mean(p=0.2,loc=0))\n",
    "print(bernoulli.median(p=0.2,loc=0))"
   ]
  },
  {
   "cell_type": "markdown",
   "metadata": {},
   "source": [
    "### Binomial Distribution Method."
   ]
  },
  {
   "cell_type": "code",
   "execution_count": 12,
   "metadata": {},
   "outputs": [
    {
     "data": {
      "text/plain": [
       "0.0"
      ]
     },
     "execution_count": 12,
     "metadata": {},
     "output_type": "execute_result"
    }
   ],
   "source": [
    "# To create PMF for Binomial Distribution.\n",
    "# PMF_binom have (K=x value, n= number of trails, p probability at loc+1, loc inital location).\n",
    "PMF_binom = binom.pmf(k=-1, n=2, p=0.4, loc=0)\n",
    "PMF_binom"
   ]
  },
  {
   "cell_type": "code",
   "execution_count": 13,
   "metadata": {},
   "outputs": [
    {
     "data": {
      "text/plain": [
       "array([ 8, 11,  2,  6,  8, 10,  6,  7,  7,  7])"
      ]
     },
     "execution_count": 13,
     "metadata": {},
     "output_type": "execute_result"
    }
   ],
   "source": [
    "# To create sample space of trials = size, n=end value, loc= start value, p= probability of event True.\n",
    "RVS_binom = binom.rvs(n=20, p=0.3, loc=1, size=10, random_state=None)\n",
    "RVS_binom"
   ]
  },
  {
   "cell_type": "code",
   "execution_count": 14,
   "metadata": {},
   "outputs": [
    {
     "data": {
      "text/plain": [
       "0.9234364680180868"
      ]
     },
     "execution_count": 14,
     "metadata": {},
     "output_type": "execute_result"
    }
   ],
   "source": [
    "# To get Cumulative distribution function for binomial distribution.\n",
    "# K= x value, n=end value, p=probability, loc=start value.\n",
    "CDF_binom = binom.cdf(k=5,n=10, p=(1.0/3), loc=0)\n",
    "CDF_binom"
   ]
  },
  {
   "cell_type": "code",
   "execution_count": 15,
   "metadata": {},
   "outputs": [
    {
     "data": {
      "text/plain": [
       "9.0"
      ]
     },
     "execution_count": 15,
     "metadata": {},
     "output_type": "execute_result"
    }
   ],
   "source": [
    "# PPF use when i have y and i  need x, q is y value, p positive probability, loc that location, n=end value.\n",
    "PPF_binom = binom.ppf(q=0.4,n=10, p=0.6, loc=3)\n",
    "PPF_binom"
   ]
  },
  {
   "cell_type": "code",
   "execution_count": 16,
   "metadata": {},
   "outputs": [
    {
     "data": {
      "text/plain": [
       "0.9998563141"
      ]
     },
     "execution_count": 16,
     "metadata": {},
     "output_type": "execute_result"
    }
   ],
   "source": [
    "# SF: Survival function (SF): 1-CDF, K is x value, p probablilty at loc+1,n=end value, \n",
    "SF_binom = binom.sf(k=1,n=10, p=0.7, loc=0)\n",
    "SF_binom"
   ]
  },
  {
   "cell_type": "code",
   "execution_count": 17,
   "metadata": {},
   "outputs": [
    {
     "name": "stdout",
     "output_type": "stream",
     "text": [
      "0.0\n",
      "nan\n",
      "2.0\n",
      "2.0\n",
      "1.2649110640673518\n",
      "1.6\n"
     ]
    }
   ],
   "source": [
    "# calculate mean, median, variance, std by two way for binomial distribution.\n",
    "print(describe(PMF_binom).mean)\n",
    "print(describe(PMF_binom).variance)\n",
    "print(binom.mean(n=10, p=0.2, loc=0))\n",
    "print(binom.median(n=10, p=0.2, loc=0))\n",
    "print(binom.std(n=10, p=0.2, loc=0))\n",
    "print(binom.var(n=10, p=0.2, loc=0))"
   ]
  },
  {
   "cell_type": "markdown",
   "metadata": {},
   "source": [
    "### Poisson Distribution Method."
   ]
  },
  {
   "cell_type": "code",
   "execution_count": 18,
   "metadata": {},
   "outputs": [
    {
     "data": {
      "text/plain": [
       "0.1637461506155964"
      ]
     },
     "execution_count": 18,
     "metadata": {},
     "output_type": "execute_result"
    }
   ],
   "source": [
    "# To create PMF for poisson Distribution.\n",
    "# PMF_poisson have (K=x value, mu=mean, loc inital location).\n",
    "PMF_poisson = poisson.pmf(k=1, mu=0.2, loc=0)\n",
    "PMF_poisson"
   ]
  },
  {
   "cell_type": "code",
   "execution_count": 19,
   "metadata": {
    "scrolled": true
   },
   "outputs": [
    {
     "data": {
      "text/plain": [
       "array([0, 0, 0, 1, 0, 0, 1, 0, 1, 1])"
      ]
     },
     "execution_count": 19,
     "metadata": {},
     "output_type": "execute_result"
    }
   ],
   "source": [
    "# To create sample space of trials = size, n=end value, loc= start value,mu= mean.\n",
    "RVS_poisson = poisson.rvs(mu=0.4, loc=0, size=10, random_state=None)\n",
    "RVS_poisson"
   ]
  },
  {
   "cell_type": "code",
   "execution_count": 20,
   "metadata": {},
   "outputs": [
    {
     "data": {
      "text/plain": [
       "0.9630636868862332"
      ]
     },
     "execution_count": 20,
     "metadata": {},
     "output_type": "execute_result"
    }
   ],
   "source": [
    "# To get Cumulative distribution function for poisson distribution.\n",
    "# K= x value, mu=mean value, loc=start value.\n",
    "CDF_poisson = poisson.cdf(k=1,mu=0.3, loc=0)\n",
    "CDF_poisson"
   ]
  },
  {
   "cell_type": "code",
   "execution_count": 21,
   "metadata": {},
   "outputs": [
    {
     "data": {
      "text/plain": [
       "3.0"
      ]
     },
     "execution_count": 21,
     "metadata": {},
     "output_type": "execute_result"
    }
   ],
   "source": [
    "# PPF use when i have y and i  need x, q is y value, mu=mean, loc that location.\n",
    "PPF_poisson = poisson.ppf(q=0.999,mu=0.4, loc=0)\n",
    "PPF_poisson"
   ]
  },
  {
   "cell_type": "code",
   "execution_count": 22,
   "metadata": {},
   "outputs": [
    {
     "data": {
      "text/plain": [
       "0.1558049835546038"
      ]
     },
     "execution_count": 22,
     "metadata": {},
     "output_type": "execute_result"
    }
   ],
   "source": [
    "# SF: Survival function (SF): 1-CDF, K is x value, mu=mean, loc=start value.\n",
    "SF_poisson = poisson.sf(k=1,mu=0.7, loc=0)\n",
    "SF_poisson"
   ]
  },
  {
   "cell_type": "code",
   "execution_count": 23,
   "metadata": {},
   "outputs": [
    {
     "name": "stdout",
     "output_type": "stream",
     "text": [
      "0.1637461506155964\n",
      "nan\n",
      "0.4\n",
      "0.0\n",
      "0.6324555320336759\n",
      "0.2\n"
     ]
    }
   ],
   "source": [
    "# calculate mean, median, variance, std by two way for poisson distribution.\n",
    "print(describe(PMF_poisson).mean)\n",
    "print(describe(PMF_poisson).variance)\n",
    "print(poisson.mean(mu=0.4, loc=0))\n",
    "print(poisson.median(mu=0.2, loc=0))\n",
    "print(poisson.std(mu=0.4, loc=0))\n",
    "print(poisson.var(mu=0.2, loc=0))"
   ]
  },
  {
   "cell_type": "markdown",
   "metadata": {},
   "source": [
    "#### --> Import Containous Distribution>--"
   ]
  },
  {
   "cell_type": "code",
   "execution_count": 24,
   "metadata": {},
   "outputs": [],
   "source": [
    "# Import uniform distribution .\n",
    "from scipy.stats import uniform"
   ]
  },
  {
   "cell_type": "code",
   "execution_count": 25,
   "metadata": {},
   "outputs": [],
   "source": [
    "# Import normal distribution .\n",
    "from scipy.stats import norm"
   ]
  },
  {
   "cell_type": "code",
   "execution_count": 26,
   "metadata": {},
   "outputs": [],
   "source": [
    "# Import exponential distribution .\n",
    "from scipy.stats import expon"
   ]
  },
  {
   "cell_type": "markdown",
   "metadata": {},
   "source": [
    "### Uniform Distribution Method.\n"
   ]
  },
  {
   "cell_type": "code",
   "execution_count": 27,
   "metadata": {},
   "outputs": [
    {
     "data": {
      "text/plain": [
       "0.25"
      ]
     },
     "execution_count": 27,
     "metadata": {},
     "output_type": "execute_result"
    }
   ],
   "source": [
    "PDF_uniform = uniform.pdf(x=3, loc=0, scale=4)\n",
    "PDF_uniform"
   ]
  },
  {
   "cell_type": "code",
   "execution_count": 28,
   "metadata": {},
   "outputs": [
    {
     "data": {
      "text/plain": [
       "array([0.73198474, 1.67539637, 0.90067893, 1.52648261, 0.85633772,\n",
       "       1.3939456 , 0.08931455, 1.60030079, 1.87393284, 0.02689515])"
      ]
     },
     "execution_count": 28,
     "metadata": {},
     "output_type": "execute_result"
    }
   ],
   "source": [
    "# To create sample space of trials = size, scale=scale curve, loc= start value.\n",
    "RVS_uniform = uniform.rvs(loc=0, scale=2, size=10, random_state=None)\n",
    "RVS_uniform"
   ]
  },
  {
   "cell_type": "code",
   "execution_count": 29,
   "metadata": {},
   "outputs": [
    {
     "data": {
      "text/plain": [
       "1.0"
      ]
     },
     "execution_count": 29,
     "metadata": {},
     "output_type": "execute_result"
    }
   ],
   "source": [
    "# To get Cumulative distribution function for poisson distribution.\n",
    "# K= x value, scale=scale curve value, loc=start value.\n",
    "CDF_uniform = uniform.cdf(x=1, loc=0, scale=1)\n",
    "CDF_uniform"
   ]
  },
  {
   "cell_type": "code",
   "execution_count": 30,
   "metadata": {},
   "outputs": [
    {
     "data": {
      "text/plain": [
       "0.68"
      ]
     },
     "execution_count": 30,
     "metadata": {},
     "output_type": "execute_result"
    }
   ],
   "source": [
    "# PPF use when i have y and i  need x, q is y value, scale=scale curve, loc that location.\n",
    "PPF_uniform = uniform.ppf(q=0.68, loc=0, scale=1)\n",
    "PPF_uniform"
   ]
  },
  {
   "cell_type": "code",
   "execution_count": 31,
   "metadata": {},
   "outputs": [
    {
     "data": {
      "text/plain": [
       "1.0"
      ]
     },
     "execution_count": 31,
     "metadata": {},
     "output_type": "execute_result"
    }
   ],
   "source": [
    "# SF: Survival function (SF): 1-CDF, K is x value, scale=scale curve, loc=start value.\n",
    "SF_uniform = uniform.sf(x=0, loc=0, scale=1)\n",
    "SF_uniform"
   ]
  },
  {
   "cell_type": "code",
   "execution_count": 32,
   "metadata": {
    "scrolled": true
   },
   "outputs": [
    {
     "name": "stdout",
     "output_type": "stream",
     "text": [
      "0.25\n",
      "nan\n",
      "0.5\n",
      "0.5\n",
      "0.28867513459481287\n",
      "0.08333333333333333\n"
     ]
    }
   ],
   "source": [
    "# calculate mean, median, variance, std by two way for uniform distribution.\n",
    "print(describe(PDF_uniform).mean)\n",
    "print(describe(PDF_uniform).variance)\n",
    "print(uniform.mean(loc=0, scale=1))\n",
    "print(uniform.median(loc=0, scale=1))\n",
    "print(uniform.std(loc=0, scale=1))\n",
    "print(uniform.var(loc=0, scale=1))"
   ]
  },
  {
   "cell_type": "markdown",
   "metadata": {},
   "source": [
    "### Normal Distribution Method."
   ]
  },
  {
   "cell_type": "code",
   "execution_count": 33,
   "metadata": {},
   "outputs": [
    {
     "data": {
      "text/plain": [
       "0.07528435803870111"
      ]
     },
     "execution_count": 33,
     "metadata": {},
     "output_type": "execute_result"
    }
   ],
   "source": [
    "# PMF_poisson have (x=x value, scale=scale curve, loc inital location).\n",
    "PDF_norm = norm.pdf(x=3, loc=0, scale=4)\n",
    "PDF_norm"
   ]
  },
  {
   "cell_type": "code",
   "execution_count": 34,
   "metadata": {},
   "outputs": [
    {
     "data": {
      "text/plain": [
       "array([-0.38878576, -3.30501032,  1.00293783,  0.86624196, -1.99781809,\n",
       "        0.15050029, -1.37072668, -2.80363536,  0.05549269, -1.64518298])"
      ]
     },
     "execution_count": 34,
     "metadata": {},
     "output_type": "execute_result"
    }
   ],
   "source": [
    "# To create sample space of trials = size, n=end value, loc= start value,scale=scale curve.\n",
    "RVS_norm = norm.rvs(loc=0, scale=2, size=10, random_state=None)\n",
    "RVS_norm"
   ]
  },
  {
   "cell_type": "code",
   "execution_count": 35,
   "metadata": {},
   "outputs": [
    {
     "data": {
      "text/plain": [
       "0.8413447460685429"
      ]
     },
     "execution_count": 35,
     "metadata": {},
     "output_type": "execute_result"
    }
   ],
   "source": [
    "# To get Cumulative distribution function for poisson distribution.\n",
    "# K= x value, scale=scale curve value, loc=start value.\n",
    "CDF_norm = norm.cdf(x=1, loc=0, scale=1)\n",
    "CDF_norm"
   ]
  },
  {
   "cell_type": "code",
   "execution_count": 36,
   "metadata": {},
   "outputs": [
    {
     "data": {
      "text/plain": [
       "0.4676987991145084"
      ]
     },
     "execution_count": 36,
     "metadata": {},
     "output_type": "execute_result"
    }
   ],
   "source": [
    "# PPF use when i have y and i  need x, q is y value, scale=scale curve, loc that location.\n",
    "PPF_norm= norm.ppf(q=0.68, loc=0, scale=1)\n",
    "PPF_norm"
   ]
  },
  {
   "cell_type": "code",
   "execution_count": 37,
   "metadata": {},
   "outputs": [
    {
     "data": {
      "text/plain": [
       "0.5"
      ]
     },
     "execution_count": 37,
     "metadata": {},
     "output_type": "execute_result"
    }
   ],
   "source": [
    "# SF: Survival function (SF): 1-CDF, K is x value, scale=scale curve, loc=start value.\n",
    "SF_norm = norm.sf(x=0, loc=0, scale=1)\n",
    "SF_norm"
   ]
  },
  {
   "cell_type": "code",
   "execution_count": 38,
   "metadata": {
    "scrolled": true
   },
   "outputs": [
    {
     "name": "stdout",
     "output_type": "stream",
     "text": [
      "0.07528435803870111\n",
      "nan\n",
      "1.0\n",
      "0.0\n",
      "2.0\n",
      "1.0\n"
     ]
    }
   ],
   "source": [
    "# calculate mean, median, variance, std by two way for uniform distribution.\n",
    "print(describe(PDF_norm).mean)\n",
    "print(describe(PDF_norm).variance)\n",
    "print(norm.mean(loc=1, scale=3))\n",
    "print(norm.median(loc=0, scale=1))\n",
    "print(norm.std(loc=0, scale=2))\n",
    "print(norm.var(loc=0, scale=1))"
   ]
  },
  {
   "cell_type": "markdown",
   "metadata": {},
   "source": [
    "### Exponential Distribution Method."
   ]
  },
  {
   "cell_type": "code",
   "execution_count": 39,
   "metadata": {},
   "outputs": [
    {
     "data": {
      "text/plain": [
       "0.11809163818525367"
      ]
     },
     "execution_count": 39,
     "metadata": {},
     "output_type": "execute_result"
    }
   ],
   "source": [
    "# PMF_poisson have (x=x value, scale=scale curve, loc inital location).\n",
    "PDF_expon = expon.pdf(x=3, loc=0, scale=4)\n",
    "PDF_expon"
   ]
  },
  {
   "cell_type": "code",
   "execution_count": 40,
   "metadata": {},
   "outputs": [
    {
     "data": {
      "text/plain": [
       "array([1.40443879, 1.3394783 , 0.26745927, 0.65610452, 1.60501285,\n",
       "       0.84569989, 0.63442241, 0.2553493 , 3.91804627, 2.2940174 ])"
      ]
     },
     "execution_count": 40,
     "metadata": {},
     "output_type": "execute_result"
    }
   ],
   "source": [
    "# To create sample space of trials = size, n=end value, loc= start value,scale=scale curve.\n",
    "RVS_expon = expon.rvs(loc=0, scale=2, size=10, random_state=None)\n",
    "RVS_expon"
   ]
  },
  {
   "cell_type": "code",
   "execution_count": 41,
   "metadata": {},
   "outputs": [
    {
     "data": {
      "text/plain": [
       "0.6321205588285577"
      ]
     },
     "execution_count": 41,
     "metadata": {},
     "output_type": "execute_result"
    }
   ],
   "source": [
    "# To get Cumulative distribution function for poisson distribution.\n",
    "# K= x value, scale=scale curve value, loc=start value.\n",
    "CDF_expon = expon.cdf(x=1, loc=0, scale=1)\n",
    "CDF_expon"
   ]
  },
  {
   "cell_type": "code",
   "execution_count": 42,
   "metadata": {},
   "outputs": [
    {
     "data": {
      "text/plain": [
       "1.139434283188365"
      ]
     },
     "execution_count": 42,
     "metadata": {},
     "output_type": "execute_result"
    }
   ],
   "source": [
    "# PPF use when i have y and i  need x, q is y value, scale=scale curve, loc that location.\n",
    "PPF_expon= expon.ppf(q=0.68, loc=0, scale=1)\n",
    "PPF_expon"
   ]
  },
  {
   "cell_type": "code",
   "execution_count": 43,
   "metadata": {},
   "outputs": [
    {
     "data": {
      "text/plain": [
       "1.0"
      ]
     },
     "execution_count": 43,
     "metadata": {},
     "output_type": "execute_result"
    }
   ],
   "source": [
    "# SF: Survival function (SF): 1-CDF, K is x value, scale=scale curve, loc=start value.\n",
    "SF_expon = expon.sf(x=0, loc=0, scale=1)\n",
    "SF_expon"
   ]
  },
  {
   "cell_type": "code",
   "execution_count": 44,
   "metadata": {
    "scrolled": true
   },
   "outputs": [
    {
     "name": "stdout",
     "output_type": "stream",
     "text": [
      "0.11809163818525367\n",
      "nan\n",
      "4.0\n",
      "0.6931471805599453\n",
      "2.0\n",
      "1.0\n"
     ]
    }
   ],
   "source": [
    "# calculate mean, median, variance, std by two way for uniform distribution.\n",
    "print(describe(PDF_expon).mean)\n",
    "print(describe(PDF_expon).variance)\n",
    "print(expon.mean(loc=1, scale=3))\n",
    "print(expon.median(loc=0, scale=1))\n",
    "print(expon.std(loc=0, scale=2))\n",
    "print(expon.var(loc=0, scale=1))"
   ]
  },
  {
   "cell_type": "code",
   "execution_count": null,
   "metadata": {},
   "outputs": [],
   "source": []
  }
 ],
 "metadata": {
  "kernelspec": {
   "display_name": "Python 3",
   "language": "python",
   "name": "python3"
  },
  "language_info": {
   "codemirror_mode": {
    "name": "ipython",
    "version": 3
   },
   "file_extension": ".py",
   "mimetype": "text/x-python",
   "name": "python",
   "nbconvert_exporter": "python",
   "pygments_lexer": "ipython3",
   "version": "3.8.3"
  }
 },
 "nbformat": 4,
 "nbformat_minor": 4
}
